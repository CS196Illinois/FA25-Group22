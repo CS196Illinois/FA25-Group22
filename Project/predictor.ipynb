{
 "cells": [
  {
   "cell_type": "code",
   "execution_count": 1,
   "id": "d8656c23",
   "metadata": {},
   "outputs": [],
   "source": [
    "import pandas as pd"
   ]
  },
  {
   "cell_type": "code",
   "execution_count": null,
   "id": "4269af6b",
   "metadata": {},
   "outputs": [],
   "source": [
    "import requests\n",
    "url = f\"https://api.polygon.io/v2/aggs/ticker/AAPL/range/1/minute/2025-01-09/2025-02-10?apiKey=vFDjkUVRfPnedLrbRjm75BZ9CJHz3dfv\"\n",
    "response = requests.get(url)"
   ]
  }
 ],
 "metadata": {
  "kernelspec": {
   "display_name": "Python 3",
   "language": "python",
   "name": "python3"
  },
  "language_info": {
   "codemirror_mode": {
    "name": "ipython",
    "version": 3
   },
   "file_extension": ".py",
   "mimetype": "text/x-python",
   "name": "python",
   "nbconvert_exporter": "python",
   "pygments_lexer": "ipython3",
   "version": "3.11.9"
  }
 },
 "nbformat": 4,
 "nbformat_minor": 5
}
