{
 "cells": [
  {
   "cell_type": "code",
   "execution_count": 1,
   "id": "d8656c23",
   "metadata": {},
   "outputs": [],
   "source": [
    "import pandas as pd"
   ]
  },
  {
   "cell_type": "code",
   "execution_count": null,
   "id": "4269af6b",
   "metadata": {},
   "outputs": [],
   "source": [
    "import requests\n",
    "url = f\"https://api.polygon.io/v2/aggs/ticker/AAPL/range/1/minute/2025-01-09/2025-02-10?apiKey=vFDjkUVRfPnedLrbRjm75BZ9CJHz3dfv\"\n",
    "response = requests.get(url)"
   ]
  },
  {
   "cell_type": "code",
   "execution_count": 3,
   "id": "57256917",
   "metadata": {},
   "outputs": [
    {
     "ename": "AssertionError",
     "evalue": "No POLYGON_API_KEY found. Create .env at the TOP of the project.",
     "output_type": "error",
     "traceback": [
      "\u001b[31m---------------------------------------------------------------------------\u001b[39m",
      "\u001b[31mAssertionError\u001b[39m                            Traceback (most recent call last)",
      "\u001b[36mCell\u001b[39m\u001b[36m \u001b[39m\u001b[32mIn[3]\u001b[39m\u001b[32m, line 5\u001b[39m\n\u001b[32m      3\u001b[39m load_dotenv()                          \u001b[38;5;66;03m# reads your .env at the project top level\u001b[39;00m\n\u001b[32m      4\u001b[39m API_KEY = os.getenv(\u001b[33m\"\u001b[39m\u001b[33mPOLYGON_API_KEY\u001b[39m\u001b[33m\"\u001b[39m)\n\u001b[32m----> \u001b[39m\u001b[32m5\u001b[39m \u001b[38;5;28;01massert\u001b[39;00m API_KEY, \u001b[33m\"\u001b[39m\u001b[33mNo POLYGON_API_KEY found. Create .env at the TOP of the project.\u001b[39m\u001b[33m\"\u001b[39m\n",
      "\u001b[31mAssertionError\u001b[39m: No POLYGON_API_KEY found. Create .env at the TOP of the project."
     ]
    }
   ],
   "source": [
    "import os\n",
    "from dotenv import load_dotenv\n",
    "load_dotenv()                          # reads your .env at the project top level\n",
    "API_KEY = os.getenv(\"POLYGON_API_KEY\")\n",
    "assert API_KEY, \"No POLYGON_API_KEY found. Create .env at the TOP of the project.\"\n"
   ]
  },
  {
   "cell_type": "code",
   "execution_count": null,
   "id": "7b167d0a",
   "metadata": {},
   "outputs": [],
   "source": [
    "import os, csv\n",
    "rows = data.get(\"results\", [])\n",
    "os.makedirs(\"data\", exist_ok=True)\n",
    "with open(\"data/AAPL_1m.csv\",\"w\",newline=\"\") as f:\n",
    "    w=csv.writer(f); w.writerow([\"t\",\"o\",\"h\",\"l\",\"c\",\"v\"])\n",
    "    for x in rows: w.writerow([x.get(\"t\"),x.get(\"o\"),x.get(\"h\"),x.get(\"c\"),x.get(\"l\"),x.get(\"v\")])\n",
    "len(rows)\n"
   ]
  }
 ],
 "metadata": {
  "kernelspec": {
   "display_name": "Python 3",
   "language": "python",
   "name": "python3"
  },
  "language_info": {
   "codemirror_mode": {
    "name": "ipython",
    "version": 3
   },
   "file_extension": ".py",
   "mimetype": "text/x-python",
   "name": "python",
   "nbconvert_exporter": "python",
   "pygments_lexer": "ipython3",
   "version": "3.13.7"
  }
 },
 "nbformat": 4,
 "nbformat_minor": 5
}
